{
  "cells": [
    {
      "cell_type": "markdown",
      "metadata": {
        "id": "_GRVt-XM62Uq"
      },
      "source": [
        "# Introduction to Neuroinformatics\n",
        "## Exercise session 1: Introduction to programming and jupyter\n",
        "\n",
        "Welcome to the first exercise session of the introduction to neuroinformatics course. This exercise session will cover the very basics of python programming in jupyter notebooks. The goal in this session is to bring everyone up to the same basic level of programming. This means that this first session will probably be safe to skip for experienced programmers."
      ]
    },
    {
      "cell_type": "markdown",
      "metadata": {
        "id": "eHzEGKov62Uv"
      },
      "source": [
        "# Table of contents:\n",
        "\n",
        "* [Packages](#packages)\n",
        "* [1: Data structures](#ds)\n",
        "    * [1.1: Lists](#lists)\n",
        "    * [1.2: Tuples](#tuples)\n",
        "    * [1.3: Dictionaries](#dicts)\n",
        "    * [1.4: Sets](#sets)\n",
        "* [2: Numpy](#numpy)\n",
        "* [3: Pandas](#pandas)\n",
        "* [4: Matplotlib for Plotting](#plotting)"
      ]
    },
    {
      "cell_type": "markdown",
      "metadata": {
        "id": "Rx_KXUWW62Uw"
      },
      "source": [
        "# Packages <a class=\"anchor\" id=\"packages\"></a>\n",
        "\n",
        "In most notebooks in this course we will use numpy for linear algebra, matplotlib to visualize and pandas for data management. These notebooks can be run online on Google Colab, or locally in a notebook. How we install packages depends on which platform we use, so we will need to check at the start of each notebook. It does not matter for this notebook, but this is a good place to get you familiar with seeing this block of code.\n",
        "\n",
        "\n",
        "First, let's check our platform:"
      ]
    },
    {
      "cell_type": "code",
      "execution_count": 1,
      "metadata": {
        "id": "onq1aWcs62Uw",
        "outputId": "c323aa3c-3427-40d9-c4a7-3bf822fc62a9",
        "colab": {
          "base_uri": "https://localhost:8080/"
        }
      },
      "outputs": [
        {
          "output_type": "stream",
          "name": "stdout",
          "text": [
            "platform: colab\n"
          ]
        }
      ],
      "source": [
        "platform = 'notebook'\n",
        "try:\n",
        "    import google.colab\n",
        "    platform = 'colab'\n",
        "except:\n",
        "    pass\n",
        "print(f\"platform: {platform}\")"
      ]
    },
    {
      "cell_type": "markdown",
      "metadata": {
        "id": "65NOwliM62Uy"
      },
      "source": [
        "Next, lets make sure our packages are installed:"
      ]
    },
    {
      "cell_type": "code",
      "execution_count": 2,
      "metadata": {
        "id": "iweLrMc662Uz",
        "outputId": "36969808-8380-4fd6-8be0-c52d5cb79c8a",
        "colab": {
          "base_uri": "https://localhost:8080/"
        }
      },
      "outputs": [
        {
          "output_type": "stream",
          "name": "stdout",
          "text": [
            "Requirement already satisfied: numpy in /usr/local/lib/python3.12/dist-packages (2.0.2)\n",
            "Requirement already satisfied: matplotlib in /usr/local/lib/python3.12/dist-packages (3.10.0)\n",
            "Requirement already satisfied: pandas in /usr/local/lib/python3.12/dist-packages (2.2.2)\n",
            "Requirement already satisfied: contourpy>=1.0.1 in /usr/local/lib/python3.12/dist-packages (from matplotlib) (1.3.3)\n",
            "Requirement already satisfied: cycler>=0.10 in /usr/local/lib/python3.12/dist-packages (from matplotlib) (0.12.1)\n",
            "Requirement already satisfied: fonttools>=4.22.0 in /usr/local/lib/python3.12/dist-packages (from matplotlib) (4.59.2)\n",
            "Requirement already satisfied: kiwisolver>=1.3.1 in /usr/local/lib/python3.12/dist-packages (from matplotlib) (1.4.9)\n",
            "Requirement already satisfied: packaging>=20.0 in /usr/local/lib/python3.12/dist-packages (from matplotlib) (25.0)\n",
            "Requirement already satisfied: pillow>=8 in /usr/local/lib/python3.12/dist-packages (from matplotlib) (11.3.0)\n",
            "Requirement already satisfied: pyparsing>=2.3.1 in /usr/local/lib/python3.12/dist-packages (from matplotlib) (3.2.3)\n",
            "Requirement already satisfied: python-dateutil>=2.7 in /usr/local/lib/python3.12/dist-packages (from matplotlib) (2.9.0.post0)\n",
            "Requirement already satisfied: pytz>=2020.1 in /usr/local/lib/python3.12/dist-packages (from pandas) (2025.2)\n",
            "Requirement already satisfied: tzdata>=2022.7 in /usr/local/lib/python3.12/dist-packages (from pandas) (2025.2)\n",
            "Requirement already satisfied: six>=1.5 in /usr/local/lib/python3.12/dist-packages (from python-dateutil>=2.7->matplotlib) (1.17.0)\n"
          ]
        }
      ],
      "source": [
        "# install packages\n",
        "!pip install numpy matplotlib pandas"
      ]
    },
    {
      "cell_type": "markdown",
      "metadata": {
        "id": "XagaE53x62Uz"
      },
      "source": [
        "Lastly, we import the packages we will need:"
      ]
    },
    {
      "cell_type": "code",
      "execution_count": 3,
      "metadata": {
        "id": "qqrGo9aV62Uz"
      },
      "outputs": [],
      "source": [
        "import numpy as np # imports numpy (which can now be called as np)\n",
        "import matplotlib.pyplot as plt # imports matplotlib\n",
        "import pandas as pd"
      ]
    },
    {
      "cell_type": "markdown",
      "metadata": {
        "id": "bJByK7ar62U0"
      },
      "source": [
        "---"
      ]
    },
    {
      "cell_type": "markdown",
      "metadata": {
        "id": "CXFg_Cef62U0"
      },
      "source": [
        "# 1: Data Structures <a class=\"anchor\" id=\"ds\"></a>\n",
        "\n",
        "Python contains 4 basic data structures:\n",
        "\n",
        "1. Lists, which can be created using square brackets: \\[\\] . Lists can contain many different entries, such as numbers (1, 2...), strings (\\'abcd\\'), but also other lists. **Items in lists do not have to be unique**.\n",
        "\n",
        "2. Tuples, which can be created using normal brackets: \\(\\). Tuples act much like lists, but are \\'immutable\\', meaning that **we cannot make changes to tuples**. So it's best to use Lists over Tuples if you're going to change the list later.\n",
        "\n",
        "3. Dictionaries, which can be created with curly brackets: \\{\\}. Entries in dictionaries always need two objects: a so-called \\'key\\' and \\'value\\' pair. After the creating a dictionary, a value can be accessed using it's corresponding value (example below)\n",
        "\n",
        "4. Sets, which are also created using curly brackets. But without a key:value pair. **Items in sets are unique**, so no matter how many of the same items you add to a set, it will always only contain one.\n",
        "\n",
        "Next, we'll go over some example usages of these datastructures."
      ]
    },
    {
      "cell_type": "markdown",
      "metadata": {
        "id": "PRFdca1z62U1"
      },
      "source": [
        "## 1.1: Lists <a class=\"Anchor\" id=\"lists\"></a>\n",
        "\n",
        "Let's create a list with some brain areas:"
      ]
    },
    {
      "cell_type": "code",
      "execution_count": 4,
      "metadata": {
        "id": "yQmpw1jr62U1",
        "outputId": "1d44d09d-a273-479d-fc70-dd083ed41ec5",
        "colab": {
          "base_uri": "https://localhost:8080/"
        }
      },
      "outputs": [
        {
          "output_type": "stream",
          "name": "stdout",
          "text": [
            "First region: Hippocampus\n",
            "Last region: Cerebellum\n",
            "\n",
            "Hippocampus\n",
            "Cortex\n",
            "Cerebellum\n",
            "Last region after append: Pons\n",
            "Number of regions: 4\n",
            "\n",
            "All but the first region: ['Cortex', 'Cerebellum', 'Pons']\n",
            "First three regions: ['Hippocampus', 'Cortex', 'Cerebellum']\n"
          ]
        }
      ],
      "source": [
        "# Create the list with square brackets, with the contents seperated by commas\n",
        "brain_regions = [\"Hippocampus\", \"Cortex\", \"Cerebellum\"]\n",
        "\n",
        "# Now we can access our brain regions by indexing in the list\n",
        "\n",
        "# Print the first item in the list\n",
        "print(\"First region:\", brain_regions[0]) # This is known as \"Zero Indexed\"\n",
        "\n",
        "# Using negative indexing, we can access the last item in the list\n",
        "print(\"Last region:\", brain_regions[-1])\n",
        "\n",
        "# Print every item in the list seperately\n",
        "print() # new line\n",
        "for region in brain_regions:\n",
        "    print(region)\n",
        "\n",
        "# Finally, we can add a new item to the list using 'append'\n",
        "brain_regions.append(\"Pons\")\n",
        "print(\"Last region after append:\", brain_regions[-1])\n",
        "print(f\"Number of regions:\", len(brain_regions)) # len() returns the number of elements in a collection\n",
        "\n",
        "# We can select multiple items at once by using a colon\n",
        "print()\n",
        "print(\"All but the first region:\", brain_regions[1:4]) # Notice element 4 is not included\n",
        "\n",
        "# An \"easier\" way to select the first three items\n",
        "print(\"First three regions:\", brain_regions[:3])"
      ]
    },
    {
      "cell_type": "markdown",
      "metadata": {
        "id": "LHBZ78gq62U1"
      },
      "source": [
        "## 1.2: Tuples <a class=\"anchor\" id=\"tuples\"></a>\n",
        "\n",
        "Let's create a tuple with some neurotransmitters:"
      ]
    },
    {
      "cell_type": "code",
      "execution_count": 5,
      "metadata": {
        "id": "jM1gm_q862U1",
        "outputId": "2a0e931e-cc91-4440-fa68-2377431361ef",
        "colab": {
          "base_uri": "https://localhost:8080/"
        }
      },
      "outputs": [
        {
          "output_type": "stream",
          "name": "stdout",
          "text": [
            "Second neurotransmitter: Serotonin\n"
          ]
        }
      ],
      "source": [
        "# Tuple of neurotransmitters and their functions (immutable)\n",
        "neurotransmitters = (\"Dopamine\", \"Serotonin\", \"GABA\")\n",
        "\n",
        "# Tuples are indexed like lists\n",
        "print(\"Second neurotransmitter:\", neurotransmitters[1])"
      ]
    },
    {
      "cell_type": "markdown",
      "metadata": {
        "id": "OHbAL1p462U2"
      },
      "source": [
        "## 1.3: Dictionaries <a class=\"anchor\" id=\"dicts\"></a>\n",
        "\n",
        "Let's create a dictionary with papers and some of their information:"
      ]
    },
    {
      "cell_type": "code",
      "execution_count": 6,
      "metadata": {
        "id": "EuDbj1Qb62U2",
        "outputId": "ffb163a4-d80a-4b1b-9d5d-91b931652748",
        "colab": {
          "base_uri": "https://localhost:8080/"
        }
      },
      "outputs": [
        {
          "output_type": "stream",
          "name": "stdout",
          "text": [
            "Paper's first author: Apostolos P. Georgopoulos\n",
            "\n",
            "Paper Data: {'title': 'Neuronal Population Coding of Movement Direction', 'year': 1986, 'authors': ('Apostolos P. Georgopoulos', 'Andrew B. Schwartz', 'Ronald E. Kettner'), 'referenced_by': ['paper_1', 'paper_2', 'paper_3'], 'pmid': 3749885}\n",
            "\n",
            "Papers in our list:\n",
            "Neuronal Population Coding of Movement Direction\n",
            "Place Cells, Grid Cells, and the Brain's Spatial Representation System\n"
          ]
        }
      ],
      "source": [
        "# Dictionary that contains information about a paper\n",
        "georgopoulos_paper = {\n",
        "    'title': \"Neuronal Population Coding of Movement Direction\",\n",
        "    'year': 1986,\n",
        "    'authors': (\"Apostolos P. Georgopoulos\", \"Andrew B. Schwartz\", \"Ronald E. Kettner\"),\n",
        "    'referenced_by': [\"paper_1\", \"paper_2\", \"paper_3\"]\n",
        "}\n",
        "\n",
        "# Now, whenever we wanted, we could ask this dictionary for information on the paper\n",
        "print(\"Paper's first author:\", georgopoulos_paper['authors'][0])\n",
        "\n",
        "# We can also add new data to the dictionary\n",
        "georgopoulos_paper['pmid'] = 3749885\n",
        "\n",
        "# Now let's see what's in the dictionary\n",
        "print()\n",
        "print(\"Paper Data:\", georgopoulos_paper)\n",
        "\n",
        "# What if we want to store information on multiple papers and reviews? We can use a list for this!\n",
        "moser_paper = {\n",
        "    'title': \"Place Cells, Grid Cells, and the Brain's Spatial Representation System\",\n",
        "    'year': 2008,\n",
        "    'authors': (\"Edvard I. Moser\", \"Emilio Kropff\", \"May-Britt Moser\"),\n",
        "    'referenced_by': [\"paper_A\", \"paper_B\", \"paper_C\"],\n",
        "    'pmid': 18284371\n",
        "}\n",
        "\n",
        "# Create a list that contains both our papers\n",
        "papers = [georgopoulos_paper, moser_paper]\n",
        "\n",
        "print(\"\\nPapers in our list:\") # \\n is the new line character\n",
        "for paper in papers:\n",
        "    print(paper['title'])"
      ]
    },
    {
      "cell_type": "markdown",
      "metadata": {
        "id": "Z1PFGWZU62U2"
      },
      "source": [
        "As you get more experience in Python, you may create what is called a **Class** to store this information, but dictionary format for storing data is commonly used in large datasets you may find yourself using one day."
      ]
    },
    {
      "cell_type": "markdown",
      "metadata": {
        "id": "C3vBTzgf62U2"
      },
      "source": [
        "## 1.4: Sets <a class=\"anchor\" id=\"sets\"></a>\n",
        "\n",
        "Finally, Let's create a set with a bunch of neuroscience tasks:"
      ]
    },
    {
      "cell_type": "code",
      "execution_count": 7,
      "metadata": {
        "id": "oHL523Gp62U3",
        "outputId": "65482707-20a6-4a8a-bc0f-1eecdb599a30",
        "colab": {
          "base_uri": "https://localhost:8080/"
        }
      },
      "outputs": [
        {
          "output_type": "stream",
          "name": "stdout",
          "text": [
            "All tasks: {'Memory task', 'Motor task', 'Cognitive task'}\n",
            "All tasks with duplicate: {'Memory task', 'Motor task', 'Cognitive task'}\n"
          ]
        }
      ],
      "source": [
        "# Set of unique cognitive tasks studied\n",
        "cognitive_tasks = {\"Memory task\", \"Motor task\", \"Cognitive task\"}\n",
        "\n",
        "print(\"All tasks:\", cognitive_tasks)\n",
        "\n",
        "# Now, let's see what a set does with a duplicate\n",
        "cognitive_tasks_2 = {\"Memory task\", \"Motor task\", \"Cognitive task\", \"Motor task\"}\n",
        "\n",
        "print(\"All tasks with duplicate:\", cognitive_tasks_2)\n",
        "\n",
        "# Only unique values can exist in a set. Therefore the duplicate doesn't show up."
      ]
    },
    {
      "cell_type": "markdown",
      "metadata": {
        "id": "QWqU5L0s62U3"
      },
      "source": [
        "\n",
        "---\n",
        "\n",
        "> **Assignment 1**\n",
        ">\n",
        "> Learning to read documentation goes a great way when working with a package or dataset for the first time. Scan through [this](https://docs.python.org/3/tutorial/datastructures.html) webpage to find information on \"list comprehension\" and use it to create a list that contains only even numbers from 1 - 10. You may need to look up how to tell a number is even in python, or how the range function works.\n"
      ]
    },
    {
      "cell_type": "code",
      "execution_count": 12,
      "metadata": {
        "id": "pE0TWZl762U3",
        "outputId": "2952fff4-bdd7-4e88-e4ee-936a8136880f",
        "colab": {
          "base_uri": "https://localhost:8080/"
        }
      },
      "outputs": [
        {
          "output_type": "stream",
          "name": "stdout",
          "text": [
            "[2, 4, 6, 8, 10]\n"
          ]
        }
      ],
      "source": [
        "# Assignment 1 code here\n",
        "even = []\n",
        "for x in range(1,6):\n",
        "  even.append(x*2)\n",
        "print(even)"
      ]
    },
    {
      "cell_type": "markdown",
      "metadata": {
        "id": "iTlecr9n62U4"
      },
      "source": [
        "---"
      ]
    },
    {
      "cell_type": "markdown",
      "metadata": {
        "id": "9iTuH2MD62U4"
      },
      "source": [
        "# 2: Numpy<a class=\"anchor\" id=\"numpy\"></a>\n",
        "\n",
        "When using Python for science, numpy (for linear algebra) and pandas (for data management) are two popular options. Let's walk through some things that these packages can do."
      ]
    },
    {
      "cell_type": "markdown",
      "metadata": {
        "id": "sFpWDcsA62U4"
      },
      "source": [
        "## Numpy"
      ]
    },
    {
      "cell_type": "code",
      "execution_count": 13,
      "metadata": {
        "id": "ewN0Z16S62U4",
        "outputId": "d453bb26-d469-4a87-cc33-ac31420d006f",
        "colab": {
          "base_uri": "https://localhost:8080/"
        }
      },
      "outputs": [
        {
          "output_type": "stream",
          "name": "stdout",
          "text": [
            "random vector: [0.94525112 0.17335295]\n",
            "identity matrix: \n",
            "  [[1. 0.]\n",
            " [0. 1.]]\n",
            "multiplied vector: [0.94525112 0.17335295]\n"
          ]
        }
      ],
      "source": [
        "# Numpy (called with np) implements many standard linear algebra operations. Matrices in Numpy are called ndarrays and can be of any dimension for complex datasets.\n",
        "import numpy as np\n",
        "\n",
        "# Create a vector of length 2, with entries drawn from a gaussian distribution\n",
        "random_vector = np.random.rand(2)\n",
        "\n",
        "# Create an identity matrix of size (2,2)\n",
        "identity_matrix = np.eye(2, 2)\n",
        "\n",
        "# Multiply the vector by the matrix using the @ symbol\n",
        "multiplied = random_vector @ identity_matrix\n",
        "\n",
        "print(\"random vector:\", random_vector)\n",
        "print(\"identity matrix: \\n \", identity_matrix)\n",
        "print(\"multiplied vector:\", multiplied)"
      ]
    },
    {
      "cell_type": "code",
      "execution_count": 14,
      "metadata": {
        "id": "hEXD1iKb62U5",
        "outputId": "3b9be9ee-796e-4ee9-ae58-35e4b23fcd5d",
        "colab": {
          "base_uri": "https://localhost:8080/"
        }
      },
      "outputs": [
        {
          "output_type": "stream",
          "name": "stdout",
          "text": [
            "random_matrix\n",
            " [[[0.03181699 0.66529464]\n",
            "  [0.00426722 0.30333106]]\n",
            "\n",
            " [[0.29564806 0.77150158]\n",
            "  [0.79545071 0.66580862]]]\n",
            "\n",
            "random_matrix halved\n",
            " [[[0.0159085  0.33264732]\n",
            "  [0.00213361 0.15166553]]\n",
            "\n",
            " [[0.14782403 0.38575079]\n",
            "  [0.39772536 0.33290431]]]\n",
            "\n",
            "random matrix plus ones\n",
            " [[[1.03181699 1.66529464]\n",
            "  [1.00426722 1.30333106]]\n",
            "\n",
            " [[1.29564806 1.77150158]\n",
            "  [1.79545071 1.66580862]]]\n"
          ]
        }
      ],
      "source": [
        "# We can create random arrays as well\n",
        "random_matrix = np.random.rand(2, 2, 2)\n",
        "\n",
        "# \"Typical\" mathematical operations on ndarrays act element-wise\n",
        "random_matrix_plus_one = random_matrix * 0.5\n",
        "\n",
        "# If dimensions line up, then we get normal matrix operations\n",
        "random_matrix_plus_ones = random_matrix + np.ones(shape=(2, 2, 2))\n",
        "\n",
        "print(\"random_matrix\\n\", random_matrix)\n",
        "print(\"\\nrandom_matrix halved\\n\", random_matrix_plus_one)\n",
        "print(\"\\nrandom matrix plus ones\\n\", random_matrix_plus_ones)"
      ]
    },
    {
      "cell_type": "code",
      "execution_count": 15,
      "metadata": {
        "id": "f8M2txj462U5",
        "outputId": "2a8141d7-b06d-4bcf-8a64-ef97443c9d65",
        "colab": {
          "base_uri": "https://localhost:8080/"
        }
      },
      "outputs": [
        {
          "output_type": "stream",
          "name": "stdout",
          "text": [
            "long array\n",
            " [[[ 0  1  2  3  4]\n",
            "  [ 5  6  7  8  9]]\n",
            "\n",
            " [[10 11 12 13 14]\n",
            "  [15 16 17 18 19]]]\n",
            "\n",
            "first axis of long array\n",
            " [ 0 10]\n",
            "\n",
            "second axis of long array\n",
            " [0 5]\n",
            "\n",
            "third axis of long array\n",
            " [0 1 2 3 4]\n"
          ]
        }
      ],
      "source": [
        "# Similar to lists, you can look at \"slices\" of arrays\n",
        "\n",
        "long_array = np.arange(20).reshape(2, 2, 5)\n",
        "first_axis = long_array[:, 0, 0]\n",
        "second_axis = long_array[0, :, 0]\n",
        "third_axis = long_array[0, 0, :]\n",
        "\n",
        "print(\"long array\\n\", long_array)\n",
        "print(\"\\nfirst axis of long array\\n\", first_axis)\n",
        "print(\"\\nsecond axis of long array\\n\", second_axis)\n",
        "print(\"\\nthird axis of long array\\n\", third_axis)"
      ]
    },
    {
      "cell_type": "markdown",
      "metadata": {
        "id": "dfEDQBC662U5"
      },
      "source": [
        "\n",
        "---\n",
        "\n",
        "> **Assignment 2**\n",
        ">\n",
        "> Understanding the structure of the dataset you are working with is critical to ensure you are using the right indexing to read the right data. How would you index long_array to extract the sub-array [[6, 7, 8], [16, 17, 18]]?"
      ]
    },
    {
      "cell_type": "code",
      "execution_count": 26,
      "metadata": {
        "id": "SLANdCJj62U6",
        "outputId": "3ac62dfe-ce94-4507-f603-7f92b487ef98",
        "colab": {
          "base_uri": "https://localhost:8080/"
        }
      },
      "outputs": [
        {
          "output_type": "stream",
          "name": "stdout",
          "text": [
            "[[ 6  7  8]\n",
            " [16 17 18]]\n"
          ]
        }
      ],
      "source": [
        "# Assignment 2 code here\n",
        "assignment_axis = long_array[:, 1, 1:4]\n",
        "print(assignment_axis)"
      ]
    },
    {
      "cell_type": "markdown",
      "metadata": {
        "id": "KpjDIEeD62U6"
      },
      "source": [
        "> **Assignment 3**\n",
        ">\n",
        "> Read a bit about [ndarray documentation](https://numpy.org/doc/stable/reference/arrays.ndarray.html). Suppose you are given an arbitrary ndarray. What method would you use to get the dimensions (also known as shape) of the array? If you want to know how many dimensions an array has (one dimensional, two dimensional, three dimensional, etc), what function could you use to determine this programmatically? Use this method on long_array to show it is three dimensional."
      ]
    },
    {
      "cell_type": "code",
      "execution_count": 31,
      "metadata": {
        "id": "aNI8cnaK62U6",
        "outputId": "8034bbdb-1afe-4ec5-b49f-4d9d3687b96c",
        "colab": {
          "base_uri": "https://localhost:8080/"
        }
      },
      "outputs": [
        {
          "output_type": "stream",
          "name": "stdout",
          "text": [
            "dimensions of axis: (2, 2, 5)\n",
            "dimension of array: 3\n"
          ]
        }
      ],
      "source": [
        "# Assignment 3 code here\n",
        "n_axis_dimensions = long_array.shape\n",
        "print(\"dimensions of axis:\", n_axis_dimensions)\n",
        "n_dimension = len(n_axis_dimensions)\n",
        "print(\"dimension of array:\",n_dimension)"
      ]
    },
    {
      "cell_type": "markdown",
      "metadata": {
        "id": "b4vWf-fH62U6"
      },
      "source": [
        "---"
      ]
    },
    {
      "cell_type": "markdown",
      "metadata": {
        "id": "xd-9r5qe62U6"
      },
      "source": [
        "## 3: Pandas\n",
        "\n",
        "Pandas is a package that manages data in table much like software like excel.\n",
        "\n",
        "In the next example we will create some fake neural data (sampled from the normal distribution) for 5 different neurons and store this data in a pandas 'dataframe' with timestamped information:\n"
      ]
    },
    {
      "cell_type": "code",
      "execution_count": 32,
      "metadata": {
        "id": "IqkMTbkE62U7",
        "outputId": "4c906a41-f114-429e-dc2e-0ca9a08fd428",
        "colab": {
          "base_uri": "https://localhost:8080/"
        }
      },
      "outputs": [
        {
          "output_type": "stream",
          "name": "stdout",
          "text": [
            "                     Neuron_1  Neuron_2  Neuron_3  Neuron_4  Neuron_5\n",
            "2023-01-01 00:00:00  0.949945  0.245252  0.325958  0.492838  0.765085\n",
            "2023-01-01 00:01:00  0.322177  0.487094  0.811565  0.934923  0.457673\n",
            "2023-01-01 00:02:00  0.915400  0.338214  0.805544  0.557990  0.176989\n",
            "2023-01-01 00:03:00  0.075650  0.042251  0.971377  0.716980  0.376099\n",
            "2023-01-01 00:04:00  0.081781  0.570367  0.480479  0.415957  0.982792\n",
            "\n",
            "Mean activity of each neuron: \n",
            " Neuron_1    0.441310\n",
            "Neuron_2    0.490917\n",
            "Neuron_3    0.517206\n",
            "Neuron_4    0.482358\n",
            "Neuron_5    0.530550\n",
            "dtype: float64\n"
          ]
        }
      ],
      "source": [
        "import pandas as pd\n",
        "\n",
        "# Creating a NumPy array representing neuronal activity over time\n",
        "neural_activity = np.random.rand(100, 5)  # 100 time points, 5 neurons\n",
        "\n",
        "# Creating a Pandas DataFrame to hold this data with time as index\n",
        "time_points = pd.date_range(start='2023-01-01', periods=100, freq='min')\n",
        "neural_df = pd.DataFrame(neural_activity, columns=[f'Neuron_{i}' for i in range(1, 6)], index=time_points)\n",
        "\n",
        "# Print the first 5 rows (the 'head') of the dataframe\n",
        "print(neural_df.head())\n",
        "print()\n",
        "\n",
        "# Calculate mean activity of each neuron\n",
        "mean_activity = neural_df.mean()\n",
        "print(\"Mean activity of each neuron: \\n\", mean_activity)"
      ]
    },
    {
      "cell_type": "markdown",
      "metadata": {
        "id": "B1r8gHF762U7"
      },
      "source": [
        "---\n",
        "\n",
        "> **Assignment 4**\n",
        ">\n",
        "> You can access the dataframe's columns just how you would access a dictionary! Try to extract the data of just Neuron_3."
      ]
    },
    {
      "cell_type": "code",
      "execution_count": null,
      "metadata": {
        "id": "2SEXjNyh62U7"
      },
      "outputs": [],
      "source": [
        "# Assignment 4 code here"
      ]
    },
    {
      "cell_type": "markdown",
      "metadata": {
        "id": "53VgjI_s62U7"
      },
      "source": [
        "---"
      ]
    },
    {
      "cell_type": "markdown",
      "metadata": {
        "id": "-nKmx4JM62U7"
      },
      "source": [
        "# 4: Matplotlib for Plotting <a class=\"anchor\" id=\"plotting\"></a>\n",
        "\n",
        "We will often ask you to visualize data in this course. One popular way of visualizing data in python is through the matplotlib package.\n",
        "\n",
        "In this example we will use the data we generated in the previous example, and visualize the activity of the neurons over time, and on average per neuron:"
      ]
    },
    {
      "cell_type": "code",
      "execution_count": null,
      "metadata": {
        "id": "p2kDiOZ062U8"
      },
      "outputs": [],
      "source": [
        "import matplotlib.pyplot as plt\n",
        "\n",
        "# Using the neural_df DataFrame from the previous example\n",
        "\n",
        "f, ax = plt.subplots(1, 1, figsize=(12, 6))\n",
        "# Plot the activity of all neurons over time\n",
        "neural_df.plot(ax=ax, kind='line')\n",
        "plt.title(\"Neuronal Activity Over Time\")\n",
        "plt.xlabel(\"Time\")\n",
        "plt.ylabel(\"Activity Level\")\n",
        "plt.show()\n"
      ]
    },
    {
      "cell_type": "code",
      "execution_count": null,
      "metadata": {
        "id": "ZG-h5WEy62VD"
      },
      "outputs": [],
      "source": [
        "\n",
        "# Let's see what neuron has the most activity using a bar plot.\n",
        "f, ax = plt.subplots(1, 1, figsize=(12, 6))\n",
        "neural_df.mean(0).plot(ax=ax, kind='bar')\n",
        "plt.title(\"Average neuronal Activity per Neuron\")\n",
        "plt.ylabel(\"Activity Level\")\n",
        "plt.show()\n"
      ]
    },
    {
      "cell_type": "markdown",
      "metadata": {
        "id": "HfCIuYb062VD"
      },
      "source": [
        "# Sliders for interactive usage"
      ]
    },
    {
      "cell_type": "markdown",
      "metadata": {
        "id": "RWwXh9OL62VE"
      },
      "source": [
        "We will often ask you to discover properties from our models and systems by running simulations with different settings. To modify the simulations we will add sliders.\n",
        "\n",
        "In this example we will simulate many neurons and their \"spikes\". This is a simple simulation that relies on a probability distribution called a **\"Poisson\" distribution**. Each black line indicates that the neuron is active and each white space indicates that the neuron is inactive.\n",
        "\n",
        "With the help of the slider, you can modify the rate driving the Poisson process."
      ]
    },
    {
      "cell_type": "code",
      "execution_count": null,
      "metadata": {
        "id": "2exX83ls62VE"
      },
      "outputs": [],
      "source": [
        "from ipywidgets import interact, IntSlider\n",
        "import matplotlib.gridspec as gridspec\n",
        "\n",
        "# Function to generate spikes using a Poisson process\n",
        "def generate_spikes(firing_rate, duration=1000, num_trials=50):\n",
        "    # Convert firing rate from Hz to probability per ms\n",
        "    spike_prob = firing_rate / 1000.0\n",
        "\n",
        "    # Generate random spikes for each trial\n",
        "    spikes = np.random.rand(num_trials, duration) < spike_prob\n",
        "    return spikes\n",
        "\n",
        "# Function to plot the raster plot\n",
        "def plot_raster(firing_rate):\n",
        "    duration = 1000  # Duration in ms\n",
        "    num_trials = 50  # Number of trials\n",
        "\n",
        "    spikes = generate_spikes(firing_rate, duration, num_trials)\n",
        "\n",
        "    fig = plt.figure(figsize=(10, 6))\n",
        "    gs = gridspec.GridSpec(1, 1)\n",
        "\n",
        "    ax = fig.add_subplot(gs[0, 0])\n",
        "    ax.set_title(f\"Raster plot (Firing rate = {firing_rate} Hz)\")\n",
        "    ax.set_xlabel(\"Time (ms)\")\n",
        "    ax.set_ylabel(\"Trials\")\n",
        "\n",
        "    for trial in range(spikes.shape[0]):\n",
        "        spike_times = np.where(spikes[trial])[0]\n",
        "        ax.vlines(spike_times, trial + 0.5, trial + 1.5, color='black')\n",
        "\n",
        "    ax.set_xlim([0, duration])\n",
        "    ax.set_ylim([0, num_trials])\n",
        "    plt.plot()\n",
        "\n",
        "# Create an interactive slider to adjust the firing rate\n",
        "interact(plot_raster, firing_rate=IntSlider(min=1, max=100, step=1, value=20, description=\"Firing rate (Hz)\"));\n"
      ]
    },
    {
      "cell_type": "markdown",
      "metadata": {
        "id": "uRVedvfN62VF"
      },
      "source": [
        "---\n",
        "\n",
        "> **Assignment 5**\n",
        ">\n",
        "> Going back to the plot with our neuron activity, it looks very messy because we have the plots for all five neurons on top of each other. Using matplotlib subplots, we can put multiple plots into one \"frame\". Below is the core of the code to make the plots. Take a look at [this matplotlib example page](https://matplotlib.org/stable/gallery/subplots_axes_and_figures/subplots_demo.html) on subplots to learn how to add labels and titles. If you want, you can navigate other matplotlib pages to learn about how to style your plot to your heart's content."
      ]
    },
    {
      "cell_type": "code",
      "execution_count": null,
      "metadata": {
        "id": "5QDtR-9R62VF"
      },
      "outputs": [],
      "source": [
        "f, ax = plt.subplots(5, 1)\n",
        "plt.tight_layout()\n",
        "for index, neuron_number in enumerate(neural_df):\n",
        "    ax[index].plot(neural_df[neuron_number])"
      ]
    },
    {
      "cell_type": "markdown",
      "metadata": {
        "id": "WJfFrFT062VG"
      },
      "source": [
        "---"
      ]
    },
    {
      "cell_type": "markdown",
      "metadata": {
        "id": "Vegb8CaG62VG"
      },
      "source": [
        "# End of this exercise session"
      ]
    }
  ],
  "metadata": {
    "kernelspec": {
      "display_name": "iton",
      "language": "python",
      "name": "python3"
    },
    "language_info": {
      "codemirror_mode": {
        "name": "ipython",
        "version": 3
      },
      "file_extension": ".py",
      "mimetype": "text/x-python",
      "name": "python",
      "nbconvert_exporter": "python",
      "pygments_lexer": "ipython3",
      "version": "3.12.11"
    },
    "colab": {
      "provenance": []
    }
  },
  "nbformat": 4,
  "nbformat_minor": 0
}